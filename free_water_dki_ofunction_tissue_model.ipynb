{
 "cells": [
  {
   "cell_type": "code",
   "execution_count": 1,
   "metadata": {
    "collapsed": true
   },
   "outputs": [],
   "source": [
    "import numpy as np\n",
    "import matplotlib.pyplot as plt\n",
    "import matplotlib\n",
    "import time\n",
    "import sys\n",
    "%matplotlib inline\n",
    "\n",
    "# To sample the diffusion-weighted directions\n",
    "from dipy.core.sphere import disperse_charges, Sphere, HemiSphere\n",
    "\n",
    "# To reconstruct the tables with the acquisition information\n",
    "from dipy.core.gradients import gradient_table\n",
    "\n",
    "# To perform the monte-carlo simulations\n",
    "from dipy.sims.voxel import multi_tensor\n",
    "\n",
    "# To process DTI and free water DTI\n",
    "import dipy.reconst.dti as dti\n",
    "import dipy.reconst.fwdti as fwdti"
   ]
  },
  {
   "cell_type": "code",
   "execution_count": 2,
   "metadata": {
    "collapsed": true
   },
   "outputs": [],
   "source": [
    "# function to compute residuals for different f-values\n",
    "\n",
    "def wiper_residuals(gtab, sig, S0, min_signal=1.0e-6, Diso=3e-3):\n",
    "    \"\"\" This function computes the residuals of the fw DTI model\"\"\"\n",
    "    params = np.zeros(sig.shape[:-1] + (3,))\n",
    "\n",
    "    # Define design matrix\n",
    "    bmag = int(np.log10(gtab.bvals.max()))\n",
    "    b = gtab.bvals.copy() / (10 ** (bmag-1))  # normalize b units\n",
    "    b = b.round() * (10 ** (bmag-1))\n",
    "    uniqueb = np.unique(b)\n",
    "    nb = len(uniqueb)\n",
    "\n",
    "    B = np.zeros((nb, 3))\n",
    "    B[:, 0] = -uniqueb\n",
    "    B[:, 1] = 1.0/6.0 * uniqueb**2\n",
    "    B[:, 2] = np.ones(nb)\n",
    "\n",
    "    ng = np.zeros(nb)\n",
    "    for bi in range(nb):\n",
    "        ng[bi] = np.sum(b == uniqueb[bi])\n",
    "    ng = np.sqrt(ng)\n",
    "    \n",
    "    # When addapting this to multivoxel this is the part\n",
    "    # that should be repeated voxel by voxel\n",
    "    msig = np.zeros(nb)\n",
    "    for bi in range(nb):\n",
    "        msig[bi] = np.mean(sig[b == uniqueb[bi]])\n",
    "\n",
    "    # Define weights as diag(sqrt(ng) * yn**2)\n",
    "    W = np.diag(ng * msig**2)\n",
    "    \n",
    "    # DTI weighted linear least square solution\n",
    "    BTW = np.dot(B.T, W)\n",
    "    inv_BT_W_B = np.linalg.pinv(np.dot(BTW, B))\n",
    "    invBTWB_BTW = np.dot(inv_BT_W_B, BTW)\n",
    "    p = np.dot(invBTWB_BTW, np.log(msig))\n",
    "\n",
    "    # General free-water signal contribution\n",
    "    fwsig = np.exp(np.dot(B, np.array([Diso, 0, 0])))\n",
    "\n",
    "    df = 0.01  # initialize precision\n",
    "    flow = 0.01  # lower f evaluated\n",
    "    fhig = 0.99  # higher f evaluated\n",
    "    ns = 99  # number of f samples \n",
    "    fs = np.linspace(flow, fhig, num=ns)  # sampling f\n",
    "    SFW = np.array([fwsig, ]*ns)  # repeat contributions for all values\n",
    "    FS, SI = np.meshgrid(fs, msig)\n",
    "    SA = SI - FS*S0*SFW.T\n",
    "    # SA < 0 means that the signal components from the free water\n",
    "    # component is larger than the total fiber. This cases are present\n",
    "    # for inapropriate large volume fractions (given the current S0\n",
    "    # value estimated). To overcome this issue negative SA are replaced\n",
    "    # by data's min positive signal.\n",
    "    SA[SA <= 0] = min_signal\n",
    "    y = np.log(SA / (1-FS))\n",
    "    all_new_params = np.dot(invBTWB_BTW, y)\n",
    "\n",
    "    # Select params for lower F2\n",
    "    SIpred = (1-FS)*np.exp(np.dot(B, all_new_params)) + FS*S0*SFW.T\n",
    "    F2 = np.sum(np.square(SI - SIpred), axis=0)\n",
    "    return F2 / 0.5"
   ]
  },
  {
   "cell_type": "code",
   "execution_count": 29,
   "metadata": {
    "collapsed": true
   },
   "outputs": [],
   "source": [
    "# function to compute residuals for different f-values\n",
    "\n",
    "def fwdti_residuals_rnh(sig, S0, design_matrix, min_signal=1.0e-6,\n",
    "                           Diso=3e-3):\n",
    "    \"\"\" This function computes the residuals of the fw DTI model\"\"\"\n",
    "    W = design_matrix\n",
    "\n",
    "    # DTI ordinary linear least square solution\n",
    "    log_s = np.log(np.maximum(sig, min_signal))\n",
    "\n",
    "    # Define weights first guess\n",
    "    params = np.dot(np.linalg.pinv(W), log_s)\n",
    "    S2 = np.diag(np.exp(2 * np.dot(W, params)))\n",
    "    \n",
    "    # DTI weighted linear least square solution\n",
    "    WTS2 = np.dot(W.T, S2)\n",
    "    inv_WT_S2_W = np.linalg.pinv(np.dot(WTS2, W))\n",
    "    invWTS2W_WTS2 = np.dot(inv_WT_S2_W, WTS2)\n",
    "    params = np.dot(invWTS2W_WTS2, log_s)\n",
    "\n",
    "    # Refine weights\n",
    "    S2 = np.diag(np.exp(2 * np.dot(W, params)))\n",
    "\n",
    "    md = (params[0] + params[2] + params[5]) / 3\n",
    "    # Process voxel if it has significant signal from tissue\n",
    "\n",
    "    # General free-water signal contribution\n",
    "    fwsig = np.exp(np.dot(design_matrix,\n",
    "                          np.array([Diso, 0, Diso, 0, 0, Diso, 0])))\n",
    "\n",
    "    df = 0.01  # initialize precision\n",
    "    flow = 0.01  # lower f evaluated\n",
    "    fhig = 0.99  # higher f evaluated\n",
    "    ns = 99  # number of f samples \n",
    "    fs = np.linspace(flow, fhig, num=ns)  # sampling f\n",
    "    SFW = np.array([fwsig, ]*ns)  # repeat contributions for all values\n",
    "    FS, SI = np.meshgrid(fs, sig)\n",
    "    SA = SI - FS*S0*SFW.T\n",
    "    # SA < 0 means that the signal components from the free water\n",
    "    # component is larger than the total fiber. This cases are present\n",
    "    # for inapropriate large volume fractions (given the current S0\n",
    "    # value estimated). To overcome this issue negative SA are replaced\n",
    "    # by data's min positive signal.\n",
    "    SA[SA <= 0] = min_signal\n",
    "    y = np.log(SA / (1-FS))\n",
    "    #y = np.log(SA)\n",
    "    all_new_params = np.dot(invWTS2W_WTS2, y)\n",
    "    # Select params for lower F2\n",
    "    SIpred = (1-FS)*np.exp(np.dot(W, all_new_params)) + FS*S0*SFW.T\n",
    "    #SIpred = np.exp(np.dot(W, all_new_params)) + FS*S0*SFW.T\n",
    "    F2 = np.sum(np.square(SI - SIpred), axis=0)\n",
    "    return F2 / 0.5"
   ]
  },
  {
   "cell_type": "code",
   "execution_count": 4,
   "metadata": {
    "collapsed": true
   },
   "outputs": [],
   "source": [
    "SNR = np.array([10., 20., 30., 40., 50.])\n",
    "\n",
    "# Sample 32 diffusion-weighted directions\n",
    "n_pts = 32\n",
    "theta = np.pi * np.random.rand(n_pts)\n",
    "phi = 2 * np.pi * np.random.rand(n_pts)\n",
    "hsph_initial = HemiSphere(theta=theta, phi=phi)\n",
    "hsph_updated, potential = disperse_charges(hsph_initial, 5000)\n",
    "directions = hsph_updated.vertices # directions for each shell\n",
    "\n",
    "# Create full dataset parameters\n",
    "# (6 b-values = 0, 32 directions for each b-values 500 and 1500)\n",
    "bvals = np.hstack((np.zeros(6),\n",
    "                   500 * np.ones(n_pts),\n",
    "                   1000 * np.ones(n_pts),\n",
    "                   1500 * np.ones(n_pts),\n",
    "                   2000 * np.ones(n_pts),\n",
    "                   2500 * np.ones(n_pts)))\n",
    "bvecs = np.vstack((np.zeros((6, 3)),\n",
    "                   directions,\n",
    "                   directions,\n",
    "                   directions,\n",
    "                   directions,\n",
    "                   directions))\n",
    "gtab = gradient_table(bvals, bvecs)"
   ]
  },
  {
   "cell_type": "code",
   "execution_count": 5,
   "metadata": {
    "collapsed": true
   },
   "outputs": [],
   "source": [
    "# free water component\n",
    "VF = 50\n",
    "Dwater = 3e-3\n",
    "\n",
    "# axonal water fraction relative to tissue volume fraction\n",
    "AWF =  np.array([0.30, 0.50])\n",
    "\n",
    "# Hindered and restricted diffusion values\n",
    "ADr = 0.99e-3\n",
    "RDr = 0.00e-3\n",
    "ADh = 2.26e-3 \n",
    "RDh = 0.87e-3\n",
    "\n",
    "mevals = np.array([[Dwater, Dwater, Dwater],\n",
    "                   [ADr, RDr, RDr],\n",
    "                   [ADh, RDh, RDh]])\n",
    "\n",
    "# simulations are repeated for 120 different diffusion tensor's\n",
    "# directions\n",
    "nDTdirs = 120\n",
    "theta = np.pi * np.random.rand(nDTdirs)\n",
    "phi = 2 * np.pi * np.random.rand(nDTdirs)\n",
    "hsph_initial = HemiSphere(theta=theta, phi=phi)\n",
    "hsph_updated, potential = disperse_charges(hsph_initial, 5000)\n",
    "DTdirs = hsph_updated.vertices  # directions for each shell\n",
    "nrep = 100"
   ]
  },
  {
   "cell_type": "code",
   "execution_count": 7,
   "metadata": {
    "collapsed": false
   },
   "outputs": [
    {
     "name": "stdout",
     "output_type": "stream",
     "text": [
      "100.000000%"
     ]
    }
   ],
   "source": [
    "DWI_simulates = np.empty((AWF.size, SNR.size, nrep * nDTdirs,\n",
    "                          bvals.size))\n",
    "\n",
    "count_i = 1.0;\n",
    "\n",
    "for awf_i in range(AWF.size):\n",
    "    fractions = [VF, (100-VF) * AWF[awf_i], (100-VF) * (1-AWF[awf_i])]\n",
    "    for snr_i in range(SNR.size):\n",
    "        this_snr = SNR[snr_i]\n",
    "        for di in range(nDTdirs):\n",
    "            d = DTdirs[di]\n",
    "            for s_i in np.arange(di * nrep, (di+1) * nrep):\n",
    "                signal, sticks = multi_tensor(gtab, mevals,\n",
    "                                              S0=100,\n",
    "                                              angles=[d, d, d],\n",
    "                                              fractions=fractions,\n",
    "                                              snr=this_snr)\n",
    "                DWI_simulates[awf_i, snr_i, s_i, :] = signal\n",
    "        prog = count_i / (SNR.size * AWF.size) * 100\n",
    "        count_i = count_i + 1.0\n",
    "        time.sleep(1)\n",
    "        sys.stdout.write(\"\\r%f%%\" % prog)\n",
    "        sys.stdout.flush()"
   ]
  },
  {
   "cell_type": "code",
   "execution_count": 11,
   "metadata": {
    "collapsed": false
   },
   "outputs": [
    {
     "name": "stdout",
     "output_type": "stream",
     "text": [
      "100.000000%"
     ]
    }
   ],
   "source": [
    "df = 0.01  # initialize precision\n",
    "flow = 0.01  # lower f evaluated\n",
    "fhig = 0.99  # higher f evaluated\n",
    "ns = 99  # number of f samples \n",
    "fs = np.linspace(flow, fhig, num=ns) \n",
    "\n",
    "dm = dti.design_matrix(gtab)\n",
    "Residual_curves = np.zeros((AWF.size, SNR.size, 99))\n",
    "f_min_res = np.zeros((AWF.size, SNR.size, nrep * nDTdirs))\n",
    "S0 = np.mean(DWI_simulates[:, :, :, gtab.b0s_mask], axis=-1)\n",
    "count_i = 1.0\n",
    "for awf_i in range(AWF.size):\n",
    "    for snr_i in range(SNR.size):\n",
    "        for di in range(nrep * nDTdirs):\n",
    "            rcurve_i = fwdti_residuals_rnh(DWI_simulates[awf_i, snr_i, di], S0[awf_i, snr_i, di], dm)\n",
    "            Residual_curves[awf_i, snr_i] = Residual_curves[awf_i, snr_i] + rcurve_i\n",
    "            Mind = np.argmin(rcurve_i)\n",
    "            f_min_res[awf_i, snr_i, di] = fs[Mind]\n",
    "        prog = count_i / (SNR.size * AWF.size) * 100\n",
    "        count_i = count_i + 1.0\n",
    "        time.sleep(1)\n",
    "        sys.stdout.write(\"\\r%f%%\" % prog)\n",
    "        sys.stdout.flush()\n",
    "Residual_curves = Residual_curves / nDTdirs"
   ]
  },
  {
   "cell_type": "code",
   "execution_count": 16,
   "metadata": {
    "collapsed": false
   },
   "outputs": [
    {
     "data": {
      "image/png": "[encoded data removed]",
      "text/plain": [
       "<matplotlib.figure.Figure at 0xbc2ac18>"
      ]
     },
     "metadata": {},
     "output_type": "display_data"
    }
   ],
   "source": [
    "fig, axs = plt.subplots(nrows=1, ncols=2, figsize=(12, 5))\n",
    "fig.subplots_adjust(wspace=0.3)\n",
    "\n",
    "colors = {0: [73.0/255, 0, 146.0/255],\n",
    "          1: [0, 109.0/255, 219.0/255],\n",
    "          2: [182.0/255, 109.0/255, 255.0/255],\n",
    "          3: [109.0/255, 182.0/255, 255.0/255],\n",
    "          4: [182.0/255, 219.0/255, 255.0/255]}\n",
    "\n",
    "median_f = np.empty(SNR.size)\n",
    "lower_p = np.empty(SNR.size)\n",
    "upper_p = np.empty(SNR.size)\n",
    "y = np.empty(SNR.size)\n",
    "\n",
    "for awf_i in range(AWF.size):\n",
    "    axs[awf_i].set_xlim([-0.1, 1.2])\n",
    "    for snr_i in range(SNR.size):\n",
    "        median_f[snr_i] = np.median(f_min_res[awf_i, snr_i, :])\n",
    "        p5, p95 = np.percentile(f_min_res[awf_i, snr_i, :], [5 ,95])\n",
    "        lower_p[snr_i] = median_f[snr_i] - p5 \n",
    "        upper_p[snr_i] = p95 - median_f[snr_i]\n",
    "        axs[awf_i].semilogy(fs, Residual_curves[awf_i, snr_i],\n",
    "                           color=colors[snr_i],\n",
    "                           linewidth=1.0,\n",
    "                           label='$SNR: %.0f$' % SNR[snr_i])\n",
    "        y[snr_i] = Residual_curves[awf_i, snr_i, round(median_f[snr_i]*100)]\n",
    "    axs[awf_i].errorbar(median_f, y, xerr=[lower_p, upper_p],\n",
    "                       fmt='o', color='r', ecolor='r')\n",
    "    axs[awf_i].set_xlabel('f-value sample')\n",
    "    axs[awf_i].set_ylabel('Residual')\n",
    "    axs[awf_i].set_ylim([10e3, 10e10])\n",
    "axs[1].legend(loc='center left', bbox_to_anchor=(1, 0.5))\n",
    "\n",
    "fig.savefig('fwdti_wlsF2_weights_signal_5b_tissue_model.png', dpi=1000)"
   ]
  },
  {
   "cell_type": "code",
   "execution_count": 19,
   "metadata": {
    "collapsed": false
   },
   "outputs": [
    {
     "name": "stdout",
     "output_type": "stream",
     "text": [
      "[ 0.59  0.6   0.59  0.59  0.59]\n",
      "[ 0.17  0.05  0.03  0.02  0.02]\n",
      "[ 0.08  0.04  0.03  0.02  0.02]\n",
      "[ 0.25  0.09  0.06  0.04  0.04]\n"
     ]
    }
   ],
   "source": [
    "print median_f\n",
    "print lower_p\n",
    "print upper_p\n",
    "print upper_p + lower_p"
   ]
  },
  {
   "cell_type": "code",
   "execution_count": 30,
   "metadata": {
    "collapsed": false
   },
   "outputs": [
    {
     "name": "stdout",
     "output_type": "stream",
     "text": [
      "100.000000%"
     ]
    }
   ],
   "source": [
    "df = 0.01  # initialize precision\n",
    "flow = 0.01  # lower f evaluated\n",
    "fhig = 0.99  # higher f evaluated\n",
    "ns = 99  # number of f samples \n",
    "fs = np.linspace(flow, fhig, num=ns) \n",
    "\n",
    "dm = dti.design_matrix(gtab)\n",
    "Residual_curves = np.zeros((AWF.size, SNR.size, 99))\n",
    "f_min_res = np.zeros((AWF.size, SNR.size, nrep * nDTdirs))\n",
    "S0 = np.mean(DWI_simulates[:, :, :, gtab.b0s_mask], axis=-1)\n",
    "count_i = 1.0\n",
    "for awf_i in range(AWF.size):\n",
    "    for snr_i in range(SNR.size):\n",
    "        for di in range(nrep * nDTdirs):\n",
    "            rcurve_i = wiper_residuals(gtab, DWI_simulates[awf_i, snr_i, di], S0[awf_i, snr_i, di])\n",
    "            Residual_curves[awf_i, snr_i] = Residual_curves[awf_i, snr_i] + rcurve_i\n",
    "            Mind = np.argmin(rcurve_i)\n",
    "            f_min_res[awf_i, snr_i, di] = fs[Mind]\n",
    "        prog = count_i / (SNR.size * AWF.size) * 100\n",
    "        count_i = count_i + 1.0\n",
    "        time.sleep(1)\n",
    "        sys.stdout.write(\"\\r%f%%\" % prog)\n",
    "        sys.stdout.flush()\n",
    "Residual_curves = Residual_curves / nDTdirs"
   ]
  },
  {
   "cell_type": "code",
   "execution_count": 31,
   "metadata": {
    "collapsed": false
   },
   "outputs": [
    {
     "data": {
      "image/png": "[encoded data removed]",
      "text/plain": [
       "<matplotlib.figure.Figure at 0xaafa6d8>"
      ]
     },
     "metadata": {},
     "output_type": "display_data"
    }
   ],
   "source": [
    "fig, axs = plt.subplots(nrows=1, ncols=2, figsize=(12, 5))\n",
    "fig.subplots_adjust(wspace=0.3)\n",
    "\n",
    "colors = {0: [73.0/255, 0, 146.0/255],\n",
    "          1: [0, 109.0/255, 219.0/255],\n",
    "          2: [182.0/255, 109.0/255, 255.0/255],\n",
    "          3: [109.0/255, 182.0/255, 255.0/255],\n",
    "          4: [182.0/255, 219.0/255, 255.0/255]}\n",
    "\n",
    "median_f = np.empty(SNR.size)\n",
    "lower_p = np.empty(SNR.size)\n",
    "upper_p = np.empty(SNR.size)\n",
    "y = np.empty(SNR.size)\n",
    "\n",
    "for awf_i in range(AWF.size):\n",
    "    axs[awf_i].set_xlim([-0.1, 1.2])\n",
    "    for snr_i in range(SNR.size):\n",
    "        median_f[snr_i] = np.median(f_min_res[awf_i, snr_i, :])\n",
    "        p5, p95 = np.percentile(f_min_res[awf_i, snr_i, :], [5 ,95])\n",
    "        lower_p[snr_i] = median_f[snr_i] - p5 \n",
    "        upper_p[snr_i] = p95 - median_f[snr_i]\n",
    "        axs[awf_i].semilogy(fs, Residual_curves[awf_i, snr_i],\n",
    "                           color=colors[snr_i],\n",
    "                           linewidth=1.0,\n",
    "                           label='$SNR: %.0f$' % SNR[snr_i])\n",
    "        y[snr_i] = Residual_curves[awf_i, snr_i, round(median_f[snr_i]*100)]\n",
    "    axs[awf_i].errorbar(median_f, y, xerr=[lower_p, upper_p],\n",
    "                       fmt='o', color='r', ecolor='r')\n",
    "    axs[awf_i].set_xlabel('f-value sample')\n",
    "    axs[awf_i].set_ylabel('Residual')\n",
    "    axs[awf_i].set_ylim([10, 10e6])\n",
    "axs[1].legend(loc='center left', bbox_to_anchor=(1, 0.5))\n",
    "\n",
    "fig.savefig('wiper_wlsF2_weights_signal_5b_tissue_model.png', dpi=1000)"
   ]
  },
  {
   "cell_type": "code",
   "execution_count": 32,
   "metadata": {
    "collapsed": false
   },
   "outputs": [
    {
     "name": "stdout",
     "output_type": "stream",
     "text": [
      "[ 0.56  0.54  0.54  0.54  0.54]\n",
      "[ 0.28  0.15  0.1   0.07  0.05]\n",
      "[ 0.16  0.1   0.07  0.06  0.05]\n",
      "[ 0.44  0.25  0.17  0.13  0.1 ]\n"
     ]
    }
   ],
   "source": [
    "print median_f\n",
    "print lower_p\n",
    "print upper_p\n",
    "print upper_p + lower_p"
   ]
  },
  {
   "cell_type": "code",
   "execution_count": 35,
   "metadata": {
    "collapsed": false
   },
   "outputs": [
    {
     "data": {
      "text/plain": [
       "2.7777777777777777"
      ]
     },
     "execution_count": 35,
     "metadata": {},
     "output_type": "execute_result"
    }
   ],
   "source": [
    "25.0/9"
   ]
  },
  {
   "cell_type": "code",
   "execution_count": null,
   "metadata": {
    "collapsed": true
   },
   "outputs": [],
   "source": []
  }
 ],
 "metadata": {
  "kernelspec": {
   "display_name": "Python 2",
   "language": "python",
   "name": "python2"
  },
  "language_info": {
   "codemirror_mode": {
    "name": "ipython",
    "version": 2
   },
   "file_extension": ".py",
   "mimetype": "text/x-python",
   "name": "python",
   "nbconvert_exporter": "python",
   "pygments_lexer": "ipython2",
   "version": "2.7.11"
  }
 },
 "nbformat": 4,
 "nbformat_minor": 0
}
