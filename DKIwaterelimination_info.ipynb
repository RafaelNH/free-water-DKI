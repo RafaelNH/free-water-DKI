{
 "cells": [
  {
   "cell_type": "markdown",
   "metadata": {},
   "source": [
    "# The free water Diffusion Kurtosis Imaging elimination model"
   ]
  },
  {
   "cell_type": "markdown",
   "metadata": {},
   "source": [
    "#Introduction"
   ]
  },
  {
   "cell_type": "markdown",
   "metadata": {},
   "source": [
    "(First paragraph: about DTI - what is used for and relevant findings)\n",
    "\n",
    "(Second paragraphy: about limitations of DTI - 1) it is sensitive to water contamination and 2) it ignores non-Gaussianity and the non-Gaussian information (why non-Gaussian information is important).\n",
    "\n",
    "(Third paragraphy: about fwDTI. How Initially proposed this model, how suggest to solve it with data of 2 shells. Recent application of this technique. Limitation.)\n",
    "\n",
    "(Fourth paragraphy: about DKI. Expansion of DTI. Recent applications. Limitations)\n",
    "\n",
    "In this work, the free water elimination Diffusion Kurtosis Imaging (FWE-DKI) model is proposed to model both tissue diffusion heterogeneity and free water partial volume influences. \n",
    "\n",
    "(Mention its technique required three b-values (unfortunately this is the number 1 limitation of this technique, however a 3 shells acquisition can be acquired in relatively short times. Moreover, recent large data studies are acquiring data with 3 shells as the case of HCP, so this technique is definately a relevant technique for current large scale projects)\n",
    "\n",
    "...\n",
    "\n",
    "Simulations are first performed to illustrate the relevance of this novel model when compared with the previous proposed FWE-DTI and standard DKI model.\n",
    "\n",
    "..."
   ]
  },
  {
   "cell_type": "markdown",
   "metadata": {},
   "source": [
    "# Methods"
   ]
  },
  {
   "cell_type": "markdown",
   "metadata": {},
   "source": [
    "## Theory"
   ]
  },
  {
   "cell_type": "markdown",
   "metadata": {},
   "source": [
    "The FWE-DKI model is an expansion of the standard DKI model in which a free water component is added to model the free water contaminations.\n",
    "\n",
    "(...)\n",
    "\n"
   ]
  },
  {
   "cell_type": "markdown",
   "metadata": {},
   "source": [
    "## Fitting procedure"
   ]
  },
  {
   "cell_type": "markdown",
   "metadata": {},
   "source": [
    "## Simulations"
   ]
  },
  {
   "cell_type": "markdown",
   "metadata": {},
   "source": [
    "Simulates are performed using multi-compartmental models which describe tissue within each image voxel as a sum of $N$ impermeable compartments. Following this framework, the MRI diffusion weighted signal $S(v, b)$ for a given diffusion-gradient encoding direction $v$ and a given diffusion-gradient weighting $b$:\n",
    "\n",
    "$$S(v, b)=S_0 \\sum_{i=1}^{N} f_i S(v, b)_i$$\n",
    "\n",
    "where element $S(v,b)_i$ are the signals contributions for each individual tissue compatment which is described by an specific diffusion tensor elements $D_i$ and a volume fraction $f_i$:\n",
    "\n",
    "$$S(v, b)_i = \\exp(-b v^T D_i v)$$\n",
    "\n",
    "In this study, to simultaneously simulate tissue's diffusion heterogeneity and free water contamination, three compartments are used for the simulations. The first compartment is used to model the free water comtamination with a isotropic diffusion of $3\\times10^{-3}mm^{2}.s^{-1}$. To model different degrees of water volume, simulations are repeated for different values of the free water volume fraction $f_w$. The other two compartments are used to model the tissue's diffusion. In a biological prespective, these compartments can be interpreted as the intra and extra-cellular components of tissue's diffusion, however for the sake of generality, in this study, these will be refered as the slow and fast tissue compartment. Similar to previous studies (Neto Henriques et al., 2015), the axial and radial diffusivities for slow compartment are set to $0.99\\times10^{-3}$ and $0.0\\times10^{-3} mm^{2}.s^{-1}$, while the axial and radial diffusivities for the fast compartment are set to $2.26\\times10^{-3}$ and $0.87\\times10^{-3}mm^{2}.s^{-1}$. To generate different degrees of tissue anisotropy and heterogeneity, simulations are repeated for different pairs of slow and fast diffusion volume fractions $f_s$ and $f_f$. Each pair was characterized by the fraction between the slow diffusion campartment relative to the total tissue's fraction: \n",
    "\n",
    "$$f_{sf} = f_s / (f_s+f_f)$$\n",
    "\n",
    "In this way, when water contamination is present the volume fraction relative to all compartments can be simply computed as $f_s = (1-f_w) \\times f_{sf}$ and $f_f = (1-f_w) \\times (1-f_{sf})$.\n",
    "\n",
    "(Describe the acquisition parameters tested)\n",
    "\n",
    "(Say that simulations are implemented in dipy)\n",
    "\n",
    "...\n",
    "\n",
    "Simulations are also applied to the previously proposed FWE-DTI and standard DKI model illustrating their bias when both tissue heterogeneity and free water contamination is present."
   ]
  },
  {
   "cell_type": "markdown",
   "metadata": {},
   "source": [
    "## Real data experiments"
   ]
  },
  {
   "cell_type": "markdown",
   "metadata": {},
   "source": []
  },
  {
   "cell_type": "markdown",
   "metadata": {},
   "source": [
    "# Results"
   ]
  },
  {
   "cell_type": "markdown",
   "metadata": {},
   "source": []
  },
  {
   "cell_type": "markdown",
   "metadata": {},
   "source": [
    "# Discussion"
   ]
  },
  {
   "cell_type": "markdown",
   "metadata": {},
   "source": [
    "...\n",
    "\n",
    "\"In some part of the discussion I have to mention that we are aware of the limitation of the simulations and justify why these still are adaquate for our study - note that simulation objective is only produce realistic degrees of diffusion heterogeneity (i.e. kurtosis values) - in this study I am not concern if it is really realistic to represent diffusion tissue using only two compartment (or if the campartmental diffusion values used are realistic values for intra and extra-cellular media)\"\n",
    "\n",
    "..."
   ]
  },
  {
   "cell_type": "code",
   "execution_count": null,
   "metadata": {
    "collapsed": true
   },
   "outputs": [],
   "source": []
  }
 ],
 "metadata": {
  "kernelspec": {
   "display_name": "Python 2",
   "language": "python",
   "name": "python2"
  },
  "language_info": {
   "codemirror_mode": {
    "name": "ipython",
    "version": 2
   },
   "file_extension": ".py",
   "mimetype": "text/x-python",
   "name": "python",
   "nbconvert_exporter": "python",
   "pygments_lexer": "ipython2",
   "version": "2.7.11"
  }
 },
 "nbformat": 4,
 "nbformat_minor": 0
}
